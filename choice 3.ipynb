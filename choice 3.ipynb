{
 "cells": [
  {
   "cell_type": "code",
   "execution_count": 76,
   "metadata": {},
   "outputs": [
    {
     "name": "stdout",
     "output_type": "stream",
     "text": [
      "in vaild\n"
     ]
    }
   ],
   "source": [
    "# Make sure there are no more than three parameters for the method \n",
    "\n",
    "count= 0\n",
    "with open('parameters in vaild.txt') as f:\n",
    "    lines = f.readlines()\n",
    "    for line in lines:\n",
    "        for char in line:\n",
    "            if char == \",\" :\n",
    "                count +=1\n",
    "if count <=2:\n",
    "    print(\"vaild\")\n",
    "else:\n",
    "     print(\"in vaild\")\n",
    "                    \n",
    "           "
   ]
  },
  {
   "cell_type": "code",
   "execution_count": 83,
   "metadata": {},
   "outputs": [
    {
     "name": "stdout",
     "output_type": "stream",
     "text": [
      "in vaild\n"
     ]
    }
   ],
   "source": [
    "count= 0\n",
    "with open('parameters vaild.txt') as f:\n",
    "    lines = f.readlines()\n",
    "    for line in lines:\n",
    "        for char in line:\n",
    "            if char == \",\" :\n",
    "                count +=1\n",
    "if count <=2:\n",
    "    print(\"vaild\")\n",
    "else:\n",
    "     print(\"in vaild\")"
   ]
  },
  {
   "cell_type": "code",
   "execution_count": null,
   "metadata": {},
   "outputs": [],
   "source": []
  }
 ],
 "metadata": {
  "kernelspec": {
   "display_name": "Python 3",
   "language": "python",
   "name": "python3"
  },
  "language_info": {
   "codemirror_mode": {
    "name": "ipython",
    "version": 3
   },
   "file_extension": ".py",
   "mimetype": "text/x-python",
   "name": "python",
   "nbconvert_exporter": "python",
   "pygments_lexer": "ipython3",
   "version": "3.7.4"
  }
 },
 "nbformat": 4,
 "nbformat_minor": 2
}
