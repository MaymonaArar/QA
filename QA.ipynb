{
 "cells": [
  {
   "cell_type": "markdown",
   "metadata": {},
   "source": [
    "# Checklist :\n",
    "\n",
    "- Magic number \n",
    "- Unreachable code\n",
    " \n"
   ]
  },
  {
   "cell_type": "code",
   "execution_count": 2,
   "metadata": {},
   "outputs": [
    {
     "name": "stdout",
     "output_type": "stream",
     "text": [
      "Magic number test :\n",
      "\n",
      "code not have a magic number :) \n",
      "\n",
      "-------------------------------------------------------\n",
      "\n",
      "Unreachable code test :\n",
      "\n",
      "Not unreachable code\n"
     ]
    }
   ],
   "source": [
    "def Magic_number(file_name):\n",
    "    test = False\n",
    "    with open(file_name) as f:\n",
    "        lines = f.readlines()\n",
    "        for line in lines:\n",
    "            for char in line:\n",
    "                if char.isdigit():\n",
    "                    test = True \n",
    "    if test :\n",
    "        print(\"code have a magic number :( \")\n",
    "    else  :\n",
    "        print(\"code not have a magic number :) \")\n",
    "        \n",
    "def Unreachable_code(file_name):\n",
    "    numReturn = False \n",
    "    newWord=0\n",
    "    with open(file_name,'r') as f:\n",
    "        for line in f:\n",
    "            for word in line.split():\n",
    "                if word=='return':\n",
    "                    numReturn=True\n",
    "                if numReturn and word:\n",
    "                    newWord=newWord+1\n",
    "    if newWord > 2:\n",
    "        print(\"Unreachable code\") \n",
    "    \n",
    "    else :\n",
    "        print(\"Not unreachable code\")\n",
    "    \n",
    "    \n",
    "#main\n",
    "print('Magic number test :\\n')\n",
    "Magic_number('Magic number code.txt')\n",
    "print(\"\\n-------------------------------------------------------\\n\")\n",
    "print('Unreachable code test :\\n')\n",
    "Unreachable_code('Unreachable code.txt')\n",
    "        "
   ]
  },
  {
   "cell_type": "code",
   "execution_count": null,
   "metadata": {},
   "outputs": [],
   "source": []
  }
 ],
 "metadata": {
  "kernelspec": {
   "display_name": "Python 3",
   "language": "python",
   "name": "python3"
  },
  "language_info": {
   "codemirror_mode": {
    "name": "ipython",
    "version": 3
   },
   "file_extension": ".py",
   "mimetype": "text/x-python",
   "name": "python",
   "nbconvert_exporter": "python",
   "pygments_lexer": "ipython3",
   "version": "3.8.3"
  }
 },
 "nbformat": 4,
 "nbformat_minor": 4
}
