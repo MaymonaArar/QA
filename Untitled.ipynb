{
 "cells": [
  {
   "cell_type": "code",
   "execution_count": null,
   "id": "970013cf",
   "metadata": {},
   "outputs": [],
   "source": [
    "typecount = 0\n",
    "dataType = []\n",
    "data = []\n",
    "funName = \" \"\n",
    "count=0\n",
    "with open('Unreachable code.txt','r') as f:\n",
    "    for line in f:\n",
    "        for word in line.split():\n",
    "            if  word=='int' or word=='string' or word=='float' or word=='char' or word=='bool' :\n",
    "                dataType.append(word)\n",
    "                typecount = typecount + 1 \n",
    "            if typecount == 1 and word!=dataType[0] and word!='('   :\n",
    "                funName = word \n",
    "                \n",
    "with open('Unreachable code.txt','r') as f:\n",
    "    for line in f:\n",
    "        for word in line.split():\n",
    "            if word == funName :count = count + 1 \n",
    "            if count > 1 and word!='(' and word!=',' and word!=funName and word!=');' :\n",
    "                data.append(word)\n",
    "            \n",
    "for i in data :\n",
    "    if type(data) == dataType[i+1]: \n",
    "        print(True)\n",
    "    else :\n",
    "        print(False)\n",
    "\n"
   ]
  },
  {
   "cell_type": "code",
   "execution_count": null,
   "id": "2edee7e2",
   "metadata": {},
   "outputs": [],
   "source": []
  }
 ],
 "metadata": {
  "kernelspec": {
   "display_name": "Python 3 (ipykernel)",
   "language": "python",
   "name": "python3"
  },
  "language_info": {
   "codemirror_mode": {
    "name": "ipython",
    "version": 3
   },
   "file_extension": ".py",
   "mimetype": "text/x-python",
   "name": "python",
   "nbconvert_exporter": "python",
   "pygments_lexer": "ipython3",
   "version": "3.9.7"
  }
 },
 "nbformat": 4,
 "nbformat_minor": 5
}
